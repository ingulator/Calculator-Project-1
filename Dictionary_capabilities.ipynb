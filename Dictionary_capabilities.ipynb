{
  "nbformat": 4,
  "nbformat_minor": 0,
  "metadata": {
    "colab": {
      "provenance": [],
      "authorship_tag": "ABX9TyOU5GldqnjWXrrkhrBXMIyQ",
      "include_colab_link": true
    },
    "kernelspec": {
      "name": "python3",
      "display_name": "Python 3"
    },
    "language_info": {
      "name": "python"
    }
  },
  "cells": [
    {
      "cell_type": "markdown",
      "metadata": {
        "id": "view-in-github",
        "colab_type": "text"
      },
      "source": [
        "<a href=\"https://colab.research.google.com/github/ingulator/Calculator-Project-1/blob/main/Dictionary_capabilities.ipynb\" target=\"_parent\"><img src=\"https://colab.research.google.com/assets/colab-badge.svg\" alt=\"Open In Colab\"/></a>"
      ]
    },
    {
      "cell_type": "code",
      "execution_count": null,
      "metadata": {
        "id": "LLWovJtE-3AX"
      },
      "outputs": [],
      "source": [
        "# Can create the empty dictionary\n",
        "my_dict = {}\n"
      ]
    },
    {
      "cell_type": "code",
      "source": [
        "# Add key and value\n",
        "my_dict[\"key1\"] = \"value1\"\n"
      ],
      "metadata": {
        "id": "4NxfNY-5__0F"
      },
      "execution_count": null,
      "outputs": []
    },
    {
      "cell_type": "code",
      "source": [
        "# Accessing a value by key\n",
        "value = my_dict[\"key1\"]"
      ],
      "metadata": {
        "id": "ulMD7RDIIw05"
      },
      "execution_count": null,
      "outputs": []
    },
    {
      "cell_type": "code",
      "source": [
        "# Checking the existence of a key in the dictionary\n",
        "if \"key1\" in my_dict:\n",
        "    print(\"Key exists\")\n"
      ],
      "metadata": {
        "id": "6vETBYi9JDoV"
      },
      "execution_count": null,
      "outputs": []
    },
    {
      "cell_type": "code",
      "source": [
        "# Deleting a key and value from the dictionary\n",
        "del my_dict[\"key1\"]"
      ],
      "metadata": {
        "id": "ZT_KGfNvJbwQ"
      },
      "execution_count": null,
      "outputs": []
    },
    {
      "cell_type": "code",
      "source": [
        "# Getting a list of all keys\n",
        "keys = my_dict.keys()\n"
      ],
      "metadata": {
        "id": "j7ePco1CJoCV"
      },
      "execution_count": null,
      "outputs": []
    },
    {
      "cell_type": "code",
      "source": [
        "# Getting a list of all values\n",
        "values = my_dict.values()"
      ],
      "metadata": {
        "id": "mJ6bP73vJy4K"
      },
      "execution_count": null,
      "outputs": []
    },
    {
      "cell_type": "code",
      "source": [
        "# Getting a list of all key-value pairs\n",
        "items = my_dict.items()\n"
      ],
      "metadata": {
        "id": "G9yfSsGgJ-UJ"
      },
      "execution_count": null,
      "outputs": []
    },
    {
      "cell_type": "code",
      "source": [
        "# Accessing a value with a check that if the key does not exist, will return a default value\n",
        "value = my_dict.get(\"key1\", \"default_value\")"
      ],
      "metadata": {
        "id": "Un-fLksSKOvx"
      },
      "execution_count": null,
      "outputs": []
    },
    {
      "cell_type": "code",
      "source": [
        "\n",
        "# The position of the first item in the dictionary\n",
        "first_item = next(iter(my_dict.items()))\n"
      ],
      "metadata": {
        "id": "D5Pjp-ylKalU"
      },
      "execution_count": null,
      "outputs": []
    }
  ]
}