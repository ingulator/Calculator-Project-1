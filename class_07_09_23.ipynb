{
  "nbformat": 4,
  "nbformat_minor": 0,
  "metadata": {
    "colab": {
      "provenance": [],
      "authorship_tag": "ABX9TyPJSLdz0KS08ToIjndiKGLk",
      "include_colab_link": true
    },
    "kernelspec": {
      "name": "python3",
      "display_name": "Python 3"
    },
    "language_info": {
      "name": "python"
    }
  },
  "cells": [
    {
      "cell_type": "markdown",
      "metadata": {
        "id": "view-in-github",
        "colab_type": "text"
      },
      "source": [
        "<a href=\"https://colab.research.google.com/github/ingulator/Calculator-Project-1/blob/main/class_07_09_23.ipynb\" target=\"_parent\"><img src=\"https://colab.research.google.com/assets/colab-badge.svg\" alt=\"Open In Colab\"/></a>"
      ]
    },
    {
      "cell_type": "code",
      "execution_count": 3,
      "metadata": {
        "colab": {
          "base_uri": "https://localhost:8080/"
        },
        "id": "i9r11AVWxHom",
        "outputId": "55f884af-16f0-42a8-9c72-b87e51b059c9"
      },
      "outputs": [
        {
          "output_type": "stream",
          "name": "stdout",
          "text": [
            "please enter a grade60\n",
            "Fail\n"
          ]
        }
      ],
      "source": [
        "grade = input(\"please enter a grade\")\n",
        "if int(grade) >= 70:\n",
        "  print(\"Pass!\")\n",
        "else:\n",
        "  print(\"Fail\")"
      ]
    },
    {
      "cell_type": "code",
      "source": [],
      "metadata": {
        "id": "vMyTQGrr4QnQ"
      },
      "execution_count": null,
      "outputs": []
    },
    {
      "cell_type": "code",
      "source": [
        "sum = 0\n",
        "current_number = 1\n",
        "while current_number <= 20:\n",
        "    sum += current_number\n",
        "    current_number += 1\n",
        "    print(\"The sum of numbers from 1 to 20 is:\", sum)\n"
      ],
      "metadata": {
        "colab": {
          "base_uri": "https://localhost:8080/"
        },
        "id": "nULJX8PMzm72",
        "outputId": "eb4d9a03-5778-4848-f0d6-8da82076aa80"
      },
      "execution_count": 6,
      "outputs": [
        {
          "output_type": "stream",
          "name": "stdout",
          "text": [
            "The sum of numbers from 1 to 20 is: 1\n",
            "The sum of numbers from 1 to 20 is: 3\n",
            "The sum of numbers from 1 to 20 is: 6\n",
            "The sum of numbers from 1 to 20 is: 10\n",
            "The sum of numbers from 1 to 20 is: 15\n",
            "The sum of numbers from 1 to 20 is: 21\n",
            "The sum of numbers from 1 to 20 is: 28\n",
            "The sum of numbers from 1 to 20 is: 36\n",
            "The sum of numbers from 1 to 20 is: 45\n",
            "The sum of numbers from 1 to 20 is: 55\n",
            "The sum of numbers from 1 to 20 is: 66\n",
            "The sum of numbers from 1 to 20 is: 78\n",
            "The sum of numbers from 1 to 20 is: 91\n",
            "The sum of numbers from 1 to 20 is: 105\n",
            "The sum of numbers from 1 to 20 is: 120\n",
            "The sum of numbers from 1 to 20 is: 136\n",
            "The sum of numbers from 1 to 20 is: 153\n",
            "The sum of numbers from 1 to 20 is: 171\n",
            "The sum of numbers from 1 to 20 is: 190\n",
            "The sum of numbers from 1 to 20 is: 210\n"
          ]
        }
      ]
    },
    {
      "cell_type": "code",
      "source": [
        "\n",
        "for i in range(1, 11):\n",
        "    print(i)"
      ],
      "metadata": {
        "colab": {
          "base_uri": "https://localhost:8080/"
        },
        "id": "JERmC0di3Di4",
        "outputId": "a54998c8-9626-4b1e-821a-91628f0b3652"
      },
      "execution_count": 7,
      "outputs": [
        {
          "output_type": "stream",
          "name": "stdout",
          "text": [
            "1\n",
            "2\n",
            "3\n",
            "4\n",
            "5\n",
            "6\n",
            "7\n",
            "8\n",
            "9\n",
            "10\n"
          ]
        }
      ]
    },
    {
      "cell_type": "code",
      "source": [
        "sum_of_numbers = 0\n",
        "for i in range(1, 21):\n",
        "    sum_of_numbers += i\n",
        "print(f\"The sum of numbers from 1 to 20 is: {sum_of_numbers}\")"
      ],
      "metadata": {
        "colab": {
          "base_uri": "https://localhost:8080/"
        },
        "id": "Rjy7qHwa3PW_",
        "outputId": "dec0148a-f942-45d8-98e0-9d83d2819fd5"
      },
      "execution_count": 8,
      "outputs": [
        {
          "output_type": "stream",
          "name": "stdout",
          "text": [
            "The sum of numbers from 1 to 20 is: 210\n"
          ]
        }
      ]
    },
    {
      "cell_type": "code",
      "source": [
        "\n",
        "numbers = [1, 2, 3, 4, 5, 6, 7, 8, 9, 10]\n",
        "for number in numbers:\n",
        "    print(number)\n"
      ],
      "metadata": {
        "colab": {
          "base_uri": "https://localhost:8080/"
        },
        "id": "LEdUcTM13w13",
        "outputId": "c872d47e-e971-4c88-c59b-5b3a2242d541"
      },
      "execution_count": 9,
      "outputs": [
        {
          "output_type": "stream",
          "name": "stdout",
          "text": [
            "1\n",
            "2\n",
            "3\n",
            "4\n",
            "5\n",
            "6\n",
            "7\n",
            "8\n",
            "9\n",
            "10\n"
          ]
        }
      ]
    },
    {
      "cell_type": "code",
      "source": [
        "\n",
        "numbers = list(range(1, 11))\n",
        "for number in numbers:\n",
        "    print(number)"
      ],
      "metadata": {
        "colab": {
          "base_uri": "https://localhost:8080/"
        },
        "id": "dodazdmr4DkT",
        "outputId": "4782b7b2-11e4-408e-a23b-6be0d6beadc3"
      },
      "execution_count": 10,
      "outputs": [
        {
          "output_type": "stream",
          "name": "stdout",
          "text": [
            "1\n",
            "2\n",
            "3\n",
            "4\n",
            "5\n",
            "6\n",
            "7\n",
            "8\n",
            "9\n",
            "10\n"
          ]
        }
      ]
    }
  ]
}