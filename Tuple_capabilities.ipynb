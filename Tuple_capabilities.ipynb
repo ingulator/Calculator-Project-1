{
  "nbformat": 4,
  "nbformat_minor": 0,
  "metadata": {
    "colab": {
      "provenance": [],
      "authorship_tag": "ABX9TyPi2ozrb3+6N0UlXTapyij9",
      "include_colab_link": true
    },
    "kernelspec": {
      "name": "python3",
      "display_name": "Python 3"
    },
    "language_info": {
      "name": "python"
    }
  },
  "cells": [
    {
      "cell_type": "markdown",
      "metadata": {
        "id": "view-in-github",
        "colab_type": "text"
      },
      "source": [
        "<a href=\"https://colab.research.google.com/github/ingulator/Calculator-Project-1/blob/main/Tuple_capabilities.ipynb\" target=\"_parent\"><img src=\"https://colab.research.google.com/assets/colab-badge.svg\" alt=\"Open In Colab\"/></a>"
      ]
    },
    {
      "cell_type": "code",
      "execution_count": null,
      "metadata": {
        "id": "cuTDubKFUgya"
      },
      "outputs": [],
      "source": [
        "# Creation of Tuples: Tuples are created using parentheses (). Elements are separated by commas.\n",
        "my_tuple = (1, 2, 3, 4, 5)\n"
      ]
    },
    {
      "cell_type": "code",
      "source": [
        "# Accessing Elements: Elements in a tuple can be accessed using indexing, just like in lists.\n",
        "my_tuple = (1, 2, 3, 4, 5)\n",
        "print(my_tuple[0])  # Output: 1\n"
      ],
      "metadata": {
        "id": "r_DKgKydVZ3X"
      },
      "execution_count": null,
      "outputs": []
    },
    {
      "cell_type": "code",
      "source": [
        "# Immutability: Once a tuple is created, its elements cannot be changed.\n",
        "my_tuple = (1, 2, 3)\n",
        "my_tuple[0] = 4  # This will raise a TypeError"
      ],
      "metadata": {
        "id": "gosQ7dMlVr_r"
      },
      "execution_count": null,
      "outputs": []
    },
    {
      "cell_type": "code",
      "source": [
        "# Slicing: You can slice tuples to extract a portion of them.\n",
        "my_tuple = (1, 2, 3, 4, 5)\n",
        "print(my_tuple[1:3])  # Output: (2, 3)"
      ],
      "metadata": {
        "id": "X_zR7pPIWGYt"
      },
      "execution_count": null,
      "outputs": []
    },
    {
      "cell_type": "code",
      "source": [
        "# Length of a Tuple: You can find out how many elements a tuple contains using the len() function.\n",
        "my_tuple = (1, 2, 3, 4, 5)\n",
        "print(len(my_tuple))  # Output: 5"
      ],
      "metadata": {
        "id": "1mqIKp6eWaiZ"
      },
      "execution_count": null,
      "outputs": []
    },
    {
      "cell_type": "code",
      "source": [
        "# Tuple Packing and Unpacking: You can pack multiple values into a tuple and unpack them later.\n",
        "my_tuple = 1, 2, 3  # Packing\n",
        "a, b, c = my_tuple  # Unpacking"
      ],
      "metadata": {
        "id": "we6ZgnxSW5bw"
      },
      "execution_count": null,
      "outputs": []
    },
    {
      "cell_type": "code",
      "source": [
        "# Using Tuples as Keys in Dictionaries:Since tuples are immutable and hashable, they can be used as keys in dictionaries.\n",
        "my_dict = {('a', 'b'): 1, ('c', 'd'): 2}"
      ],
      "metadata": {
        "id": "sVNUg6uPXLBy"
      },
      "execution_count": null,
      "outputs": []
    },
    {
      "cell_type": "code",
      "source": [
        "# Returning Multiple Values from Functions: Functions can return multiple values as a tuple.\n",
        "def get_coordinates():\n",
        "    x = 10\n",
        "    y = 20\n",
        "    return x, y\n",
        "\n",
        "coordinates = get_coordinates()\n"
      ],
      "metadata": {
        "id": "lH-ws55qXWlB"
      },
      "execution_count": null,
      "outputs": []
    },
    {
      "cell_type": "code",
      "source": [
        "# Efficient Memory Usage: Tuples consume less memory compared to lists because they are immutable.\n",
        "import sys\n",
        "my_list = [1, 2, 3, 4, 5]\n",
        "my_tuple = (1, 2, 3, 4, 5)\n",
        "print(sys.getsizeof(my_list))  # Output: 112\n",
        "print(sys.getsizeof(my_tuple))  # Output: 80\n",
        "\n"
      ],
      "metadata": {
        "id": "t1hLvTh7Xtz6"
      },
      "execution_count": null,
      "outputs": []
    },
    {
      "cell_type": "code",
      "source": [
        "# Heterogeneous Data: Tuples can store elements of different types.\n",
        "mixed_tuple = (1, \"hello\", True, 3.14)"
      ],
      "metadata": {
        "id": "xApXuPaDX3bX"
      },
      "execution_count": null,
      "outputs": []
    }
  ]
}