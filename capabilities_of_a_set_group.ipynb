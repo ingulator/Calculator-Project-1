{
  "nbformat": 4,
  "nbformat_minor": 0,
  "metadata": {
    "colab": {
      "provenance": [],
      "authorship_tag": "ABX9TyNX87UOuiYRehez+7CmeAtI",
      "include_colab_link": true
    },
    "kernelspec": {
      "name": "python3",
      "display_name": "Python 3"
    },
    "language_info": {
      "name": "python"
    }
  },
  "cells": [
    {
      "cell_type": "markdown",
      "metadata": {
        "id": "view-in-github",
        "colab_type": "text"
      },
      "source": [
        "<a href=\"https://colab.research.google.com/github/ingulator/Calculator-Project-1/blob/main/capabilities_of_a_set_group.ipynb\" target=\"_parent\"><img src=\"https://colab.research.google.com/assets/colab-badge.svg\" alt=\"Open In Colab\"/></a>"
      ]
    },
    {
      "cell_type": "code",
      "execution_count": null,
      "metadata": {
        "id": "0VaoaldZLjtB"
      },
      "outputs": [],
      "source": [
        "# Uniqueness: Sets only store unique elements. If you try to add a duplicate element, it won't be included in the set.\n"
      ]
    },
    {
      "cell_type": "code",
      "source": [
        "# Uniqueness: Sets only store unique elements. If you try to add a duplicate element, it won't be included in the set."
      ],
      "metadata": {
        "id": "osRJd3FUOAQb"
      },
      "execution_count": null,
      "outputs": []
    },
    {
      "cell_type": "code",
      "source": [
        "# Membership Testing: You can quickly check if an element is present in a set using the in operator. This operation is very efficient for sets.\n",
        "my_set = {1, 2, 3, 4, 5}\n",
        "print(3 in my_set)  # Output: True\n",
        "print(6 in my_set)  # Output: False"
      ],
      "metadata": {
        "colab": {
          "base_uri": "https://localhost:8080/"
        },
        "id": "EXTFs1xvOKg9",
        "outputId": "6fc0101e-f537-4e59-8542-d0a68fc5c7ed"
      },
      "execution_count": 1,
      "outputs": [
        {
          "output_type": "stream",
          "name": "stdout",
          "text": [
            "True\n",
            "False\n"
          ]
        }
      ]
    },
    {
      "cell_type": "code",
      "source": [
        "# Operations: Sets support various mathematical operations like union, intersection, difference, and symmetric difference. These operations can be very useful for tasks like finding common elements between sets.\n",
        "set1 = {1, 2, 3, 4, 5}\n",
        "set2 = {4, 5, 6, 7, 8}\n",
        "\n",
        "# Union\n",
        "print(set1 | set2)  # Output: {1, 2, 3, 4, 5, 6, 7, 8}\n",
        "\n",
        "# Intersection\n",
        "print(set1 & set2)  # Output: {4, 5}\n",
        "\n",
        "# Difference\n",
        "print(set1 - set2)  # Output: {1, 2, 3}\n",
        "\n",
        "# Symmetric Difference\n",
        "print(set1 ^ set2)  # Output: {1, 2, 3, 6, 7, 8}\n"
      ],
      "metadata": {
        "id": "6I0L60vSOQ9e"
      },
      "execution_count": null,
      "outputs": []
    },
    {
      "cell_type": "code",
      "source": [
        "# Adding and Removing Elements: You can add elements to a set using the add() method and remove elements using the remove() or discard() methods.\n",
        "my_set = {1, 2, 3}\n",
        "my_set.add(4)      # Adds 4 to the set\n",
        "my_set.remove(2)   # Removes 2 from the set\n",
        "my_set.discard(3)  # Removes 3 from the set\n"
      ],
      "metadata": {
        "id": "H95umimfOvQM"
      },
      "execution_count": null,
      "outputs": []
    },
    {
      "cell_type": "code",
      "source": [
        "# Iterating Through a Set: You can use loops to iterate through the elements of a set.\n",
        "my_set = {1, 2, 3, 4, 5}\n",
        "for item in my_set:\n",
        "    print(item)"
      ],
      "metadata": {
        "id": "bhmh36HnPA-S"
      },
      "execution_count": null,
      "outputs": []
    },
    {
      "cell_type": "code",
      "source": [
        "# Set Comprehensions: You can create sets using comprehensions, similar to lists.\n",
        "my_set = {x for x in range(10) if x % 2 == 0}  # Creates a set of even numbers from 0 to 9"
      ],
      "metadata": {
        "id": "IgkCNVJYPKKx"
      },
      "execution_count": null,
      "outputs": []
    },
    {
      "cell_type": "code",
      "source": [
        "# Immutable Elements: Elements in a set must be immutable. This means you can't use lists or dictionaries as elements, but you can use tuples.\n",
        "invalid_set = {[1, 2], (3, 4)}  # This will raise a TypeError\n",
        "valid_set = {(1, 2), (3, 4)}    # This is valid"
      ],
      "metadata": {
        "id": "t1TmSFTNPSrJ"
      },
      "execution_count": null,
      "outputs": []
    }
  ]
}