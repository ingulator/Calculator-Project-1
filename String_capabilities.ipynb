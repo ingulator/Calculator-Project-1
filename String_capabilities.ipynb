{
  "nbformat": 4,
  "nbformat_minor": 0,
  "metadata": {
    "colab": {
      "provenance": [],
      "authorship_tag": "ABX9TyORXp6eSMO2di+dgzJ1bfgC",
      "include_colab_link": true
    },
    "kernelspec": {
      "name": "python3",
      "display_name": "Python 3"
    },
    "language_info": {
      "name": "python"
    }
  },
  "cells": [
    {
      "cell_type": "markdown",
      "metadata": {
        "id": "view-in-github",
        "colab_type": "text"
      },
      "source": [
        "<a href=\"https://colab.research.google.com/github/ingulator/Calculator-Project-1/blob/main/String_capabilities.ipynb\" target=\"_parent\"><img src=\"https://colab.research.google.com/assets/colab-badge.svg\" alt=\"Open In Colab\"/></a>"
      ]
    },
    {
      "cell_type": "code",
      "execution_count": null,
      "metadata": {
        "id": "IqxMlZ7-P5cv"
      },
      "outputs": [],
      "source": [
        "# Creating Strings: you can use either single (') or double (\") quotes to create a string.\n",
        "my_string = \"Hello, World!\""
      ]
    },
    {
      "cell_type": "code",
      "source": [
        "# Concatenation: you can combine strings using the + operator.\n",
        "str1 = \"Hello\"\n",
        "str2 = \"World\"\n",
        "result = str1 + \", \" + str2 + \"!\"\n",
        "# Output: \"Hello, World!\""
      ],
      "metadata": {
        "id": "ay6C_iRvQkEL"
      },
      "execution_count": 3,
      "outputs": []
    },
    {
      "cell_type": "code",
      "source": [
        "# Multiplication: you can replicate a string using the * operator.\n",
        "repeated_str = \"abc\" * 3\n",
        "# Output: \"abcabcabc\""
      ],
      "metadata": {
        "id": "Ya-cAvzZQwPW"
      },
      "execution_count": 2,
      "outputs": []
    },
    {
      "cell_type": "code",
      "source": [
        "# Accessing Characters: you can access individual characters in a string using indices (0-based).\n",
        "my_string = \"Hello\"\n",
        "first_char = my_string[0]  # 'H'\n"
      ],
      "metadata": {
        "id": "3Q-QYuXSQ93G"
      },
      "execution_count": 4,
      "outputs": []
    },
    {
      "cell_type": "code",
      "source": [
        "# Slicing: you can extract substrings using slicing notation.\n",
        "my_string = \"Hello, World!\"\n",
        "sub_string = my_string[7:12]  # \"World\"\n"
      ],
      "metadata": {
        "id": "hXTuzQe2RX7T"
      },
      "execution_count": 5,
      "outputs": []
    },
    {
      "cell_type": "code",
      "source": [
        "# String Length: you can find the length of a string using the len() function.\n",
        "my_string = \"Hello, World!\"\n",
        "length = len(my_string)  # 13\n"
      ],
      "metadata": {
        "id": "LEehjx0VRfSt"
      },
      "execution_count": 6,
      "outputs": []
    },
    {
      "cell_type": "code",
      "source": [
        "# String Methods: strings have a wide range of built-in methods for manipulation, like lower(), upper(), strip(), replace(), split(), etc.\n",
        "my_string = \"  Hello, World!  \"\n",
        "trimmed = my_string.strip()  # \"Hello, World!\""
      ],
      "metadata": {
        "id": "gNBLKIgLR1lo"
      },
      "execution_count": null,
      "outputs": []
    },
    {
      "cell_type": "code",
      "source": [
        "# String Formatting: you can format strings using f-strings or the .format() method.\n",
        "name = \"Alice\"\n",
        "age = 30\n",
        "formatted_str = f\"My name is {name} and I am {age} years old.\"\n",
        "# Output: \"My name is Alice and I am 30 years old.\"\n"
      ],
      "metadata": {
        "id": "X8DenBKCR-2a"
      },
      "execution_count": null,
      "outputs": []
    },
    {
      "cell_type": "code",
      "source": [
        "# String Immutability: strings are immutable, which means you can't change their individual characters. You'll need to create a new string."
      ],
      "metadata": {
        "id": "AqAdjabRSO5D"
      },
      "execution_count": null,
      "outputs": []
    },
    {
      "cell_type": "code",
      "source": [
        "# Escape Sequences: you can use escape sequences (\\) to include special characters within a string.\n",
        "my_string = \"This is a \\\"quoted\\\" string.\"\n",
        "# Output: 'This is a \"quoted\" string.'"
      ],
      "metadata": {
        "id": "gtXUJYY7SS76"
      },
      "execution_count": null,
      "outputs": []
    },
    {
      "cell_type": "code",
      "source": [
        "# String Comparison: you can compare strings using operators like ==, !=, etc.\n",
        "str1 = \"hello\"\n",
        "str2 = \"world\"\n",
        "result = str1 == str2  # False"
      ],
      "metadata": {
        "id": "-ZqJAGGiScW7"
      },
      "execution_count": null,
      "outputs": []
    },
    {
      "cell_type": "code",
      "source": [
        "# Searching in Strings: you can check if a substring is present in a string using the in operator.\n",
        "my_string = \"Hello, World!\"\n",
        "is_present = \"World\" in my_string  # True\n"
      ],
      "metadata": {
        "id": "weH-mEK7SmeH"
      },
      "execution_count": null,
      "outputs": []
    }
  ]
}