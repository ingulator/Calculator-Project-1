{
  "nbformat": 4,
  "nbformat_minor": 0,
  "metadata": {
    "colab": {
      "provenance": [],
      "authorship_tag": "ABX9TyPTwjTenWK8tc9XSEt4WvJz",
      "include_colab_link": true
    },
    "kernelspec": {
      "name": "python3",
      "display_name": "Python 3"
    },
    "language_info": {
      "name": "python"
    }
  },
  "cells": [
    {
      "cell_type": "markdown",
      "metadata": {
        "id": "view-in-github",
        "colab_type": "text"
      },
      "source": [
        "<a href=\"https://colab.research.google.com/github/ingulator/Calculator-Project-1/blob/main/list_capabilities.ipynb\" target=\"_parent\"><img src=\"https://colab.research.google.com/assets/colab-badge.svg\" alt=\"Open In Colab\"/></a>"
      ]
    },
    {
      "cell_type": "code",
      "execution_count": null,
      "metadata": {
        "id": "UZF1yNw0YxvV"
      },
      "outputs": [],
      "source": [
        "# In Python, a list is a versatile and fundamental data structure that allows you to store a collection of items. It's ordered and mutable, which means you can modify, add, and remove elements after the list is created. Here's a demonstration of various capabilities of a list in Python:"
      ]
    },
    {
      "cell_type": "code",
      "source": [
        "# Creating a List: You can create a list by enclosing a comma-separated sequence of elements within square brackets [].\n",
        "my_list = [1, 2, 3, 4, 5]"
      ],
      "metadata": {
        "id": "V2DfRYpgZcAM"
      },
      "execution_count": null,
      "outputs": []
    },
    {
      "cell_type": "code",
      "source": [
        "# Accessing Elements: You can access individual elements in a list using their index. Python uses 0-based indexing, which means the first element has an index of 0.\n",
        "print(my_list[0])  # Output: 1"
      ],
      "metadata": {
        "id": "pD6jcAMGZsYk"
      },
      "execution_count": null,
      "outputs": []
    },
    {
      "cell_type": "code",
      "source": [
        "# Modifying Elements: Lists are mutable, so you can change the value of an element by accessing it via its index.\n",
        "my_list[2] = 10\n",
        "print(my_list)  # Output: [1, 2, 10, 4, 5]"
      ],
      "metadata": {
        "id": "v-r0i51FZ1Eu"
      },
      "execution_count": null,
      "outputs": []
    },
    {
      "cell_type": "code",
      "source": [
        "# Adding Elements: You can add elements to a list using various methods:\n",
        "# Append: Adds an element to the end of the list.\n",
        "my_list.append(6)\n",
        "print(my_list)  # Output: [1, 2, 10, 4, 5, 6]\n",
        "# Insert: Adds an element at a specific index.\n",
        "my_list.insert(2, 7)  # Inserts 7 at index 2\n",
        "print(my_list)  # Output: [1, 2, 7, 10, 4, 5, 6]"
      ],
      "metadata": {
        "id": "fhdl2osPZ_MD"
      },
      "execution_count": null,
      "outputs": []
    },
    {
      "cell_type": "code",
      "source": [
        "# Removing Elements: You can remove elements from a list using various methods:\n",
        "# Remove: Removes the first occurrence of a specified value.\n",
        "my_list.remove(4)\n",
        "print(my_list)  # Output: [1, 2, 7, 10, 5, 6]\n",
        "# Pop: Removes and returns the element at a specific index.\n",
        "popped_element = my_list.pop(2)  # Removes element at index 2 (7)\n",
        "print(my_list)  # Output: [1, 2, 10, 5, 6]\n",
        "print(popped_element)  # Output: 7"
      ],
      "metadata": {
        "id": "jlRgiucqaZGM"
      },
      "execution_count": null,
      "outputs": []
    },
    {
      "cell_type": "code",
      "source": [
        "# Slicing: You can extract a portion of the list using slicing.\n",
        "sub_list = my_list[1:3]  # Extracts elements from index 1 to 2\n",
        "print(sub_list)  # Output: [2, 10]"
      ],
      "metadata": {
        "id": "JtcsNRuFaskL"
      },
      "execution_count": null,
      "outputs": []
    },
    {
      "cell_type": "code",
      "source": [
        "# Length of a List: You can find the number of elements in a list using the len function.\n",
        "length = len(my_list)\n",
        "print(length)  # Output: 5"
      ],
      "metadata": {
        "id": "EcbPS2a9ax3Y"
      },
      "execution_count": null,
      "outputs": []
    },
    {
      "cell_type": "code",
      "source": [
        "# Checking if an Element is in a List: You can use the in keyword to check if a value is present in a list.\n",
        "is_present = 10 in my_list\n",
        "print(is_present)  # Output: True"
      ],
      "metadata": {
        "id": "e-wxOzMWa5Gu"
      },
      "execution_count": null,
      "outputs": []
    }
  ]
}