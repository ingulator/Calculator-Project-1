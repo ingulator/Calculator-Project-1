{
  "nbformat": 4,
  "nbformat_minor": 0,
  "metadata": {
    "colab": {
      "provenance": [],
      "authorship_tag": "ABX9TyOb01RGI3XUUZwGUAidXoaP",
      "include_colab_link": true
    },
    "kernelspec": {
      "name": "python3",
      "display_name": "Python 3"
    },
    "language_info": {
      "name": "python"
    }
  },
  "cells": [
    {
      "cell_type": "markdown",
      "metadata": {
        "id": "view-in-github",
        "colab_type": "text"
      },
      "source": [
        "<a href=\"https://colab.research.google.com/github/ingulator/Calculator-Project-1/blob/main/operators'_abilities.ipynb\" target=\"_parent\"><img src=\"https://colab.research.google.com/assets/colab-badge.svg\" alt=\"Open In Colab\"/></a>"
      ]
    },
    {
      "cell_type": "code",
      "execution_count": null,
      "metadata": {
        "id": "nnxfbttmbcX2"
      },
      "outputs": [],
      "source": [
        "# n Python, operators are special symbols or keywords that perform operations on one or more operands (values or variables). There are several types of operators in Python, including arithmetic operators, comparison operators, logical operators, assignment operators, and more. Let's go through each category:"
      ]
    },
    {
      "cell_type": "code",
      "source": [
        "# Arithmetic Operators:\n",
        "# '+': Addition\n",
        "# '-': Subtraction\n",
        "# '*': Multiplication\n",
        "# '/': Division\n",
        "# '%': Modulo (remainder after division)\n",
        "# '**': Exponentiation (raising to the power)\n",
        "# '//': Floor Division (division, rounded down to the nearest whole number)\n",
        "a = 10\n",
        "b = 3\n",
        "addition = a + b\n",
        "subtraction = a - b\n",
        "multiplication = a * b\n",
        "division = a / b  # Result: 3.333...\n",
        "modulo = a % b  # Result: 1\n",
        "exponentiation = a ** b  # Result: 1000\n",
        "floor_division = a // b  # Result: 3"
      ],
      "metadata": {
        "id": "T_7_V78cb8CM"
      },
      "execution_count": 3,
      "outputs": []
    },
    {
      "cell_type": "code",
      "source": [
        "# Comparison Operators:\n",
        "# '==': Equal to\n",
        "# '!=': Not equal to\n",
        "# '>': Greater than\n",
        "# '<': Less than\n",
        "# '>=': Greater than or equal to\n",
        "# '<=': Less than or equal to\n",
        "x = 5\n",
        "y = 7\n",
        "is_equal = x == y  # Result: False\n",
        "not_equal = x != y  # Result: True\n",
        "greater_than = x > y  # Result: False\n",
        "less_than = x < y  # Result: True\n",
        "greater_equal = x >= y  # Result: False\n",
        "less_equal = x <= y  # Result: True"
      ],
      "metadata": {
        "id": "diBSJUE7dpvC"
      },
      "execution_count": null,
      "outputs": []
    },
    {
      "cell_type": "code",
      "source": [
        "# Logical Operators:\n",
        "\n",
        "and: Logical AND\n",
        "or: Logical OR\n",
        "not: Logical NOT\n",
        "p = True\n",
        "q = False\n",
        "logical_and = p and q  # Result: False\n",
        "logical_or = p or q  # Result: True\n",
        "logical_not_p = not p  # Result: False\n",
        "logical_not_q = not q  # Result: True"
      ],
      "metadata": {
        "id": "mXYYxcfFeOJR"
      },
      "execution_count": null,
      "outputs": []
    },
    {
      "cell_type": "code",
      "source": [
        "# Assignment Operators:\n",
        "\n",
        "=: Assigns a value to a variable\n",
        "+=: Adds right operand to the left operand and assigns the result to the left operand\n",
        "-=: Subtracts right operand from the left operand and assigns the result to the left operand\n",
        "*=: Multiplies the left operand by the right operand and assigns the result to the left operand\n",
        "/=: Divides the left operand by the right operand and assigns the result to the left operand\n",
        "%=: Computes the modulus of the left operand divided by the right operand and assigns the result to the left operand\n",
        "**=: Raises the left operand to the power of the right operand and assigns the result to the left operand\n",
        "//=: Performs floor division on the left operand by the right operand and assigns the result to the left operand\n",
        "x = 10\n",
        "x += 5  # Equivalent to x = x + 5 (x is now 15)\n",
        "y = 20\n",
        "y **= 2  # Equivalent to y = y ** 2 (y is now 400)"
      ],
      "metadata": {
        "id": "EQZMkHUSegTl"
      },
      "execution_count": null,
      "outputs": []
    }
  ]
}