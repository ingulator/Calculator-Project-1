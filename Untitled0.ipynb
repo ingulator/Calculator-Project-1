{
  "nbformat": 4,
  "nbformat_minor": 0,
  "metadata": {
    "colab": {
      "provenance": [],
      "authorship_tag": "ABX9TyNsn0bWMCH1dBUjWAGj5IUt",
      "include_colab_link": true
    },
    "kernelspec": {
      "name": "python3",
      "display_name": "Python 3"
    },
    "language_info": {
      "name": "python"
    }
  },
  "cells": [
    {
      "cell_type": "markdown",
      "metadata": {
        "id": "view-in-github",
        "colab_type": "text"
      },
      "source": [
        "<a href=\"https://colab.research.google.com/github/ingulator/Calculator-Project-1/blob/main/Untitled0.ipynb\" target=\"_parent\"><img src=\"https://colab.research.google.com/assets/colab-badge.svg\" alt=\"Open In Colab\"/></a>"
      ]
    },
    {
      "cell_type": "code",
      "source": [
        "print(\"Hello, it's me\")"
      ],
      "metadata": {
        "colab": {
          "base_uri": "https://localhost:8080/"
        },
        "id": "IR1yHatmFNAi",
        "outputId": "9f560807-6920-4ab1-b617-d7971698c3a5"
      },
      "execution_count": 1,
      "outputs": [
        {
          "output_type": "stream",
          "name": "stdout",
          "text": [
            "Hello, it's me\n"
          ]
        }
      ]
    },
    {
      "cell_type": "code",
      "source": [
        "print(\"H\",end=\"\")\n",
        "print(\"e\",end=\"\")\n",
        "print(\"y\")"
      ],
      "metadata": {
        "colab": {
          "base_uri": "https://localhost:8080/"
        },
        "id": "DrE_zsVXGYo8",
        "outputId": "fc4a8f47-fc60-49a8-9428-fb01b9fb2ce3"
      },
      "execution_count": 3,
      "outputs": [
        {
          "output_type": "stream",
          "name": "stdout",
          "text": [
            "Hey\n"
          ]
        }
      ]
    },
    {
      "cell_type": "code",
      "source": [
        "word=\"doker\"\n",
        "if \"d\" in word:\n",
        "  print(\"d exists in the word doker\")\n",
        "else:\n",
        "  print(\"d does not exist in the word doker\")"
      ],
      "metadata": {
        "colab": {
          "base_uri": "https://localhost:8080/"
        },
        "id": "UXc9oGLaHCsv",
        "outputId": "1117e262-4194-47c6-dd99-3ae452758baf"
      },
      "execution_count": 5,
      "outputs": [
        {
          "output_type": "stream",
          "name": "stdout",
          "text": [
            "d exists in the word doker\n"
          ]
        }
      ]
    },
    {
      "cell_type": "code",
      "source": [
        "print(\"d\" in \"doker\")\n"
      ],
      "metadata": {
        "colab": {
          "base_uri": "https://localhost:8080/"
        },
        "id": "1FE5PunNQTxe",
        "outputId": "9d726b2b-d4a3-4ea3-974a-47f549254308"
      },
      "execution_count": 14,
      "outputs": [
        {
          "output_type": "stream",
          "name": "stdout",
          "text": [
            "True\n"
          ]
        }
      ]
    },
    {
      "cell_type": "code",
      "source": [
        "print(type(\"d\" in \"doker\"))\n"
      ],
      "metadata": {
        "colab": {
          "base_uri": "https://localhost:8080/"
        },
        "id": "_rLxEpXYQ5Lg",
        "outputId": "e03a4441-ae91-4b90-fdbb-6ff427125c2c"
      },
      "execution_count": 19,
      "outputs": [
        {
          "output_type": "stream",
          "name": "stdout",
          "text": [
            "<class 'bool'>\n"
          ]
        }
      ]
    },
    {
      "cell_type": "code",
      "source": [
        "word = \"Cloudtrail\"\n",
        "if \"T\" in word:\n",
        "  print(\"T exists in the word Cloudtrail\")\n",
        "else:\n",
        "  print(\"T does not exist in the word Cloudtrail\")\n"
      ],
      "metadata": {
        "colab": {
          "base_uri": "https://localhost:8080/"
        },
        "id": "r8I2d0uGIgKX",
        "outputId": "01d9c5eb-8819-449f-9e06-ddbe0537710a"
      },
      "execution_count": 7,
      "outputs": [
        {
          "output_type": "stream",
          "name": "stdout",
          "text": [
            "T does not exist in the word Cloudtrail\n"
          ]
        }
      ]
    },
    {
      "cell_type": "code",
      "source": [
        "print(\"X\"*7)"
      ],
      "metadata": {
        "colab": {
          "base_uri": "https://localhost:8080/"
        },
        "id": "vtjHVU9VJp0_",
        "outputId": "e88bfe37-1dd0-4306-a431-c0226084e03a"
      },
      "execution_count": 8,
      "outputs": [
        {
          "output_type": "stream",
          "name": "stdout",
          "text": [
            "XXXXXXX\n"
          ]
        }
      ]
    },
    {
      "cell_type": "code",
      "source": [
        "\n",
        "num=100\n",
        "\n",
        "\n",
        "print(num+5)\n",
        "print(num-5)\n",
        "print(num*5)\n",
        "print(num/3)\n",
        "print(num/7)\n",
        "print(num//7)\n"
      ],
      "metadata": {
        "colab": {
          "base_uri": "https://localhost:8080/"
        },
        "id": "jhVMfiwDJw_8",
        "outputId": "a85c9bc4-7d6c-4250-e127-f21334f502cf"
      },
      "execution_count": 21,
      "outputs": [
        {
          "output_type": "stream",
          "name": "stdout",
          "text": [
            "105\n",
            "95\n",
            "500\n",
            "33.333333333333336\n",
            "14.285714285714286\n",
            "14\n"
          ]
        }
      ]
    },
    {
      "cell_type": "code",
      "source": [
        "\n"
      ],
      "metadata": {
        "id": "Z7SVMzfPNrAH"
      },
      "execution_count": null,
      "outputs": []
    }
  ]
}